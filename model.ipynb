{
 "cells": [
  {
   "cell_type": "code",
   "execution_count": 147,
   "metadata": {},
   "outputs": [],
   "source": [
    "import torch \n",
    "from torch.utils.data import DataLoader\n",
    "from torchvision import datasets, transforms\n",
    "import numpy as np\n",
    "import pandas as pd\n",
    "import matplotlib.pyplot as plt\n",
    "import torch.nn as nn\n",
    "import torch.nn.functional as F\n",
    "from sklearn.model_selection import train_test_split\n",
    "%matplotlib inline"
   ]
  },
  {
   "cell_type": "code",
   "execution_count": 167,
   "metadata": {},
   "outputs": [
    {
     "data": {
      "text/plain": [
       "(27898, 11)"
      ]
     },
     "execution_count": 167,
     "metadata": {},
     "output_type": "execute_result"
    }
   ],
   "source": [
    "pd.set_option('future.no_silent_downcasting', True)\n",
    "data = pd.read_csv('dataset\\Student Depression Dataset.csv')\n",
    "\n",
    "data['Gender'] = data['Gender'].replace('Male', 0.0)\n",
    "data['Gender'] = data['Gender'].replace('Female', 1.0)\n",
    "\n",
    "data['Sleep Duration'] = data['Sleep Duration'].replace('Less than 5 hours', 0.0)\n",
    "data['Sleep Duration'] = data['Sleep Duration'].replace('5-6 hours', 1.0)\n",
    "data['Sleep Duration'] = data['Sleep Duration'].replace('6-8 hours', 2.0)\n",
    "data['Sleep Duration'] = data['Sleep Duration'].replace('More than 8 hours', 3.0)\n",
    "data['Sleep Duration'] = data['Sleep Duration'].replace('Others', 4.0)\n",
    "\n",
    "\n",
    "data['Dietary Habits'] = data['Dietary Habits'].replace('Healthy', 0.0)\n",
    "data['Dietary Habits'] = data['Dietary Habits'].replace('Moderate', 1.0)\n",
    "data['Dietary Habits'] = data['Dietary Habits'].replace('Unhealthy', 2.0)\n",
    "data['Dietary Habits'] = data['Dietary Habits'].replace('Others', 3.0)\n",
    "\n",
    "data['Have you ever had suicidal thoughts ?'] = data['Have you ever had suicidal thoughts ?'].replace('No', 0.0)\n",
    "data['Have you ever had suicidal thoughts ?'] = data['Have you ever had suicidal thoughts ?'].replace('Yes', 1.0)\n",
    "\n",
    "data['Family History of Mental Illness'] = data['Family History of Mental Illness'].replace('No', 0.0)\n",
    "data['Family History of Mental Illness'] = data['Family History of Mental Illness'].replace('Yes', 1.0)\n",
    "\n",
    "data = data.dropna()\n",
    "\n",
    "X = data.drop(['id', 'City', 'Profession', 'Work Pressure', 'Job Satisfaction', 'Degree', 'Depression'], axis=1)\n",
    "y = data['Depression']\n",
    "\n",
    "X = X.values\n",
    "y = y.values\n",
    "X.shape"
   ]
  },
  {
   "cell_type": "code",
   "execution_count": 156,
   "metadata": {},
   "outputs": [
    {
     "name": "stdout",
     "output_type": "stream",
     "text": [
      "tensor(False) tensor(False)\n",
      "tensor(False) tensor(False)\n"
     ]
    }
   ],
   "source": [
    "\n",
    "X_train, X_test, y_train, y_test = train_test_split(X, y, test_size=0.2, random_state=(42))\n",
    "X_train = torch.FloatTensor(X_train)\n",
    "X_test = torch.FloatTensor(X_test)\n",
    "\n",
    "y_train = torch.LongTensor(y_train)\n",
    "y_test = torch.LongTensor(y_test)\n",
    "print(torch.isnan(X_train).any(), torch.isinf(X_train).any())\n",
    "print(torch.isnan(y_train).any(), torch.isinf(y_train).any())"
   ]
  },
  {
   "cell_type": "code",
   "execution_count": 157,
   "metadata": {},
   "outputs": [],
   "source": [
    "class DepressionModel(nn.Module):\n",
    "    def __init__(self):\n",
    "        super().__init__()\n",
    "        self.fc1 = nn.Linear(11, 30)\n",
    "        self.fc2 = nn.Linear(30, 35)\n",
    "        self.fc3 = nn.Linear(35, 20)\n",
    "        self.out = nn.Linear(20, 2)\n",
    "    \n",
    "    def forward(self,x):\n",
    "        x = F.relu(self.fc1(x))\n",
    "        x = F.relu(self.fc2(x))\n",
    "        x = F.relu(self.fc3(x))\n",
    "        x = (self.out(x))\n",
    "\n",
    "        return x"
   ]
  },
  {
   "cell_type": "code",
   "execution_count": 158,
   "metadata": {},
   "outputs": [],
   "source": [
    "torch.manual_seed(42)\n",
    "model = DepressionModel()\n"
   ]
  },
  {
   "cell_type": "code",
   "execution_count": null,
   "metadata": {},
   "outputs": [],
   "source": [
    "criterion = nn.CrossEntropyLoss()\n",
    "# optimiser, llearning rate\n",
    "optimiser = torch.optim.Adam(model.parameters(), lr=0.0001)"
   ]
  },
  {
   "cell_type": "code",
   "execution_count": 163,
   "metadata": {},
   "outputs": [
    {
     "name": "stdout",
     "output_type": "stream",
     "text": [
      "Epoch 0, loss: 0.34756022691726685\n",
      "Epoch 1000, loss: 0.3455660045146942\n",
      "Epoch 2000, loss: 0.34474101662635803\n",
      "Epoch 3000, loss: 0.34482482075691223\n",
      "Epoch 4000, loss: 0.344089150428772\n",
      "Epoch 5000, loss: 0.34384962916374207\n",
      "Epoch 6000, loss: 0.3435703217983246\n",
      "Epoch 7000, loss: 0.34339025616645813\n",
      "Epoch 8000, loss: 0.3431975543498993\n",
      "Epoch 9000, loss: 0.3429630398750305\n"
     ]
    }
   ],
   "source": [
    "epochs = 10000\n",
    "losses = []\n",
    "for i in range(epochs):\n",
    "    # to measure losses\n",
    "   y_pred = model.forward(X_train)\n",
    "   loss = criterion(y_pred, y_train)\n",
    "   losses.append(loss.detach().numpy())\n",
    "   if i %1000 == 0: \n",
    "    print(f'Epoch {i}, loss: {loss}')\n",
    "\n",
    "    # Backprop\n",
    "   optimiser.zero_grad()\n",
    "   loss.backward()\n",
    "   optimiser.step()"
   ]
  },
  {
   "cell_type": "code",
   "execution_count": null,
   "metadata": {},
   "outputs": [],
   "source": []
  },
  {
   "cell_type": "code",
   "execution_count": null,
   "metadata": {},
   "outputs": [],
   "source": []
  }
 ],
 "metadata": {
  "kernelspec": {
   "display_name": "Python 3",
   "language": "python",
   "name": "python3"
  },
  "language_info": {
   "codemirror_mode": {
    "name": "ipython",
    "version": 3
   },
   "file_extension": ".py",
   "mimetype": "text/x-python",
   "name": "python",
   "nbconvert_exporter": "python",
   "pygments_lexer": "ipython3",
   "version": "3.9.0"
  }
 },
 "nbformat": 4,
 "nbformat_minor": 2
}
